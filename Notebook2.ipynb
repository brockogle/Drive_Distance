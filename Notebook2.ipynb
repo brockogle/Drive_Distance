{
 "cells": [
  {
   "cell_type": "code",
   "execution_count": null,
   "metadata": {
    "collapsed": true
   },
   "outputs": [],
   "source": [
    "import requests\n",
    "import json\n",
    "import pandas as pd\n",
    "import matplotlib.pyplot as plt"
   ]
  },
  {
   "cell_type": "code",
   "execution_count": null,
   "metadata": {},
   "outputs": [],
   "source": [
    "#Loads key generated in Notebook1, key must be in dictionary in file 'tokens.json'\n",
    "with open('tokens.json') as f:\n",
    "    tokens = json.load(f)"
   ]
  },
  {
   "cell_type": "code",
   "execution_count": null,
   "metadata": {
    "collapsed": true
   },
   "outputs": [],
   "source": [
    "#Retrieves key from json file\n",
    "key = tokens['key']['key']"
   ]
  },
  {
   "cell_type": "code",
   "execution_count": null,
   "metadata": {},
   "outputs": [],
   "source": [
    "waypoints = pd.read_csv('waypoints.csv')"
   ]
  },
  {
   "cell_type": "code",
   "execution_count": null,
   "metadata": {},
   "outputs": [],
   "source": [
    "#strips extra whitespace off end of every entry\n",
    "waypoints['STREET1'] = waypoints['STREET1'].str.strip()\n",
    "waypoints['CITY'] = waypoints['CITY'].str.strip()\n",
    "waypoints['STATE'] = waypoints['STATE'].str.strip()"
   ]
  },
  {
   "cell_type": "code",
   "execution_count": null,
   "metadata": {},
   "outputs": [],
   "source": [
    "waypoints.head() #check data, must have columns from above cells"
   ]
  },
  {
   "cell_type": "code",
   "execution_count": null,
   "metadata": {},
   "outputs": [],
   "source": [
    "key #must have Bing Maps Key to use a Bing Maps API"
   ]
  },
  {
   "cell_type": "code",
   "execution_count": null,
   "metadata": {
    "collapsed": true
   },
   "outputs": [],
   "source": [
    "#unchanging parts of each url used for requests to the \n",
    "base = 'http://dev.virtualearth.net/REST/V1/Routes/Driving?'\n",
    "waypoint0 = 'wp.0='\n",
    "waypoint1 = '&wp.1='\n",
    "tail = '&optmz=distance&output=json&key='\n",
    "endpoint = 'Chicago, IL'\n",
    "endpoint = endpoint.replace(' ','%')\n",
    "endpoint = endpoint.replace(',','')"
   ]
  },
  {
   "cell_type": "code",
   "execution_count": null,
   "metadata": {
    "collapsed": true
   },
   "outputs": [],
   "source": [
    "#Creates lists of all street addresses, cities, states in order\n",
    "street1_list = list(waypoints.STREET1)\n",
    "city_list = list(waypoints.CITY)\n",
    "state_list = list(waypoints.STATE)"
   ]
  },
  {
   "cell_type": "code",
   "execution_count": null,
   "metadata": {
    "collapsed": true
   },
   "outputs": [],
   "source": [
    "#Gets json file returned from Bing Maps Driving Distance Matrix API for each address is waypoints\n",
    "#Prints out all 400 responses (Bad Request) meaning address not found\n",
    "#Returns the response code and the json text\n",
    "def API_func(address,url,j):\n",
    "    response = requests.get(url)\n",
    "    if response.reason == 'Bad Request':\n",
    "        print(j,response, response.reason, address)\n",
    "        j = j + 1\n",
    "    else:\n",
    "        return response, response.text, j\n",
    "    return response, response.text, j"
   ]
  },
  {
   "cell_type": "code",
   "execution_count": null,
   "metadata": {
    "collapsed": true
   },
   "outputs": [],
   "source": [
    "#Parses json file and pulls total drive distance\n",
    "def distance_func(text):\n",
    "    parsed = json.loads(text)\n",
    "    parsed = parsed['resourceSets'][0]\n",
    "    parsed = parsed['resources'][0]\n",
    "    distance = parsed['travelDistance']\n",
    "    return(distance)"
   ]
  },
  {
   "cell_type": "code",
   "execution_count": null,
   "metadata": {},
   "outputs": [],
   "source": [
    "#for loop iterates through each row of waypoints, assigns variables, builds request urls, appends distance list\n",
    "#Calls appropriate functions\n",
    "distances = list()\n",
    "j = 0\n",
    "for i in range(len(waypoints)):\n",
    "    street1 = str(street1_list[i])\n",
    "    city = str(city_list[i])\n",
    "    state = str(state_list[i])\n",
    "    address = street1 + ' ' + city + ' ' + state\n",
    "    address = address.replace(' ','%')\n",
    "    url = base + waypoint0 + address + waypoint1 + endpoint + tail + key\n",
    "    #print(url)\n",
    "    response, text, j = API_func(address,url,j)\n",
    "    if response.reason != 'OK':\n",
    "        distances.append('')\n",
    "        #print(address)\n",
    "    else:\n",
    "        distance = distance_func(text)\n",
    "        distances.append(distance)\n",
    "waypoints['distance'] = distances"
   ]
  },
  {
   "cell_type": "code",
   "execution_count": null,
   "metadata": {},
   "outputs": [],
   "source": [
    "#Adds driving distance (in km) to waypoints\n",
    "waypoints['distance'] = distances"
   ]
  },
  {
   "cell_type": "code",
   "execution_count": null,
   "metadata": {},
   "outputs": [],
   "source": [
    "#removes points not found from waypoints\n",
    "#converts distances from km to miles\n",
    "waypoints_plot = waypoints[waypoints['distance'] != '']\n",
    "waypoints_plot.distance = waypoints_plot.distance/1.609"
   ]
  },
  {
   "cell_type": "code",
   "execution_count": null,
   "metadata": {
    "collapsed": true
   },
   "outputs": [],
   "source": [
    "#exports data\n",
    "waypoints.to_csv('waypoints.csv')"
   ]
  },
  {
   "cell_type": "code",
   "execution_count": null,
   "metadata": {},
   "outputs": [],
   "source": [
    "#last json file printed for viewing\n",
    "parsed = json.loads(response.text)\n",
    "#parsed = parsed['resourceSets'][0]\n",
    "print(json.dumps(parsed, indent=4, sort_keys=True))"
   ]
  },
  {
   "cell_type": "code",
   "execution_count": null,
   "metadata": {},
   "outputs": [],
   "source": [
    "#example plot (histogram)\n",
    "waypoints_plot[[\"distance\"]] = waypoints_plot[[\"distance\"]].apply(pd.to_numeric)\n",
    "waypoints_plot\n",
    "plt.hist(x=waypoints_plot['distance'],bins=50)\n",
    "plt.xlabel('One Way Drive Distance (Miles)')\n",
    "plt.ylabel('Count')\n",
    "plt.title('Drive Distance Distribution')\n",
    "plt.legend()\n",
    "plt.show()"
   ]
  },
  {
   "cell_type": "code",
   "execution_count": null,
   "metadata": {
    "collapsed": true
   },
   "outputs": [],
   "source": []
  }
 ],
 "metadata": {
  "kernelspec": {
   "display_name": "Python 2",
   "language": "python",
   "name": "python2"
  },
  "language_info": {
   "codemirror_mode": {
    "name": "ipython",
    "version": 2
   },
   "file_extension": ".py",
   "mimetype": "text/x-python",
   "name": "python",
   "nbconvert_exporter": "python",
   "pygments_lexer": "ipython2",
   "version": "2.7.13"
  }
 },
 "nbformat": 4,
 "nbformat_minor": 2
}
